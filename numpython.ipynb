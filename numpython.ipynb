{
 "cells": [
  {
   "cell_type": "code",
   "execution_count": 32,
   "id": "aedf21d1",
   "metadata": {},
   "outputs": [],
   "source": [
    "import random\n",
    "from importlib import reload\n",
    "import numpython.base as base"
   ]
  },
  {
   "cell_type": "code",
   "execution_count": 70,
   "id": "118b358f",
   "metadata": {},
   "outputs": [
    {
     "data": {
      "text/plain": [
       "<module 'numpython.base' from 'd:\\\\PET_PROJECTS\\\\numpython\\\\numpython\\\\base.py'>"
      ]
     },
     "execution_count": 70,
     "metadata": {},
     "output_type": "execute_result"
    }
   ],
   "source": [
    "reload(base)"
   ]
  },
  {
   "cell_type": "code",
   "execution_count": 71,
   "id": "69bff424",
   "metadata": {},
   "outputs": [],
   "source": [
    "lst = list(range(25))\n",
    "chunks = [lst[i:i + 5] for i in range(0, len(lst), 5)]"
   ]
  },
  {
   "cell_type": "code",
   "execution_count": 51,
   "id": "b3ba9ae8",
   "metadata": {},
   "outputs": [],
   "source": [
    "matrix = base.Pymatrix(chunks)"
   ]
  },
  {
   "cell_type": "code",
   "execution_count": 53,
   "id": "7eac6ce7",
   "metadata": {},
   "outputs": [
    {
     "data": {
      "text/plain": [
       "'Pymatrix(5×5)'"
      ]
     },
     "execution_count": 53,
     "metadata": {},
     "output_type": "execute_result"
    }
   ],
   "source": [
    "matrix.__repr__()"
   ]
  },
  {
   "cell_type": "code",
   "execution_count": 72,
   "id": "0d5caec9",
   "metadata": {},
   "outputs": [],
   "source": [
    "zero_matrix = base.Pymatrix.random(5, 5)"
   ]
  },
  {
   "cell_type": "code",
   "execution_count": 75,
   "id": "9954ba7d",
   "metadata": {},
   "outputs": [
    {
     "data": {
      "text/plain": [
       "5"
      ]
     },
     "execution_count": 75,
     "metadata": {},
     "output_type": "execute_result"
    }
   ],
   "source": [
    "zero_matrix.cols"
   ]
  }
 ],
 "metadata": {
  "kernelspec": {
   "display_name": "DL",
   "language": "python",
   "name": "python3"
  },
  "language_info": {
   "codemirror_mode": {
    "name": "ipython",
    "version": 3
   },
   "file_extension": ".py",
   "mimetype": "text/x-python",
   "name": "python",
   "nbconvert_exporter": "python",
   "pygments_lexer": "ipython3",
   "version": "3.12.8"
  }
 },
 "nbformat": 4,
 "nbformat_minor": 5
}
