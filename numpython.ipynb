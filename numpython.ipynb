{
 "cells": [
  {
   "cell_type": "code",
   "execution_count": 15,
   "id": "aedf21d1",
   "metadata": {},
   "outputs": [],
   "source": [
    "import random\n",
    "from importlib import reload\n",
    "import numpython.base as base\n",
    "\n",
    "import numpy as np"
   ]
  },
  {
   "cell_type": "code",
   "execution_count": 45,
   "id": "a70d2835",
   "metadata": {},
   "outputs": [
    {
     "data": {
      "text/plain": [
       "array([[0.41644363, 0.34246703, 0.60761662, 0.69950342],\n",
       "       [0.0097792 , 0.88251805, 0.25575945, 0.63002603],\n",
       "       [0.11853626, 0.02555939, 0.77059959, 0.49321939],\n",
       "       [0.26106576, 0.45340015, 0.77882249, 0.48211265]])"
      ]
     },
     "execution_count": 45,
     "metadata": {},
     "output_type": "execute_result"
    }
   ],
   "source": [
    "np.random.random((4,4))"
   ]
  },
  {
   "cell_type": "code",
   "execution_count": 21,
   "id": "d5db0503",
   "metadata": {},
   "outputs": [],
   "source": [
    "ar = np.array(range(16)).reshape((4,4))"
   ]
  },
  {
   "cell_type": "code",
   "execution_count": 125,
   "id": "1d59d9d3",
   "metadata": {},
   "outputs": [
    {
     "name": "stdout",
     "output_type": "stream",
     "text": [
      "[[ 0  1  2  3]\n",
      " [ 4  5  6  7]\n",
      " [ 8  9 10 11]\n",
      " [12 13 14 15]]\n"
     ]
    }
   ],
   "source": [
    "print(ar)"
   ]
  },
  {
   "cell_type": "code",
   "execution_count": 163,
   "id": "118b358f",
   "metadata": {},
   "outputs": [
    {
     "data": {
      "text/plain": [
       "<module 'numpython.base' from 'd:\\\\numpython\\\\numpython\\\\numpython\\\\base.py'>"
      ]
     },
     "execution_count": 163,
     "metadata": {},
     "output_type": "execute_result"
    }
   ],
   "source": [
    "reload(base)"
   ]
  },
  {
   "cell_type": "code",
   "execution_count": 149,
   "id": "9cbf6276",
   "metadata": {},
   "outputs": [],
   "source": [
    "mat = base.Pymatrix.from_numpy(ar)"
   ]
  },
  {
   "cell_type": "code",
   "execution_count": 123,
   "id": "b74ab214",
   "metadata": {},
   "outputs": [
    {
     "data": {
      "text/plain": [
       "Pymatrix(4, 4)"
      ]
     },
     "execution_count": 123,
     "metadata": {},
     "output_type": "execute_result"
    }
   ],
   "source": [
    "mat"
   ]
  },
  {
   "cell_type": "code",
   "execution_count": 119,
   "id": "124da06c",
   "metadata": {},
   "outputs": [
    {
     "name": "stdout",
     "output_type": "stream",
     "text": [
      "Pymatrix([[  0,   1,   2,   3],\n",
      "          [  4,   5,   6,   7],\n",
      "          [  8,   9,  10,  11],\n",
      "          [ 12,  13,  14,  15]])\n"
     ]
    }
   ],
   "source": [
    "print(mat)"
   ]
  },
  {
   "cell_type": "code",
   "execution_count": 164,
   "id": "69bff424",
   "metadata": {},
   "outputs": [],
   "source": [
    "lst = list(range(25))\n",
    "chunks = [lst[i:i + 5] for i in range(0, len(lst), 5)]"
   ]
  },
  {
   "cell_type": "code",
   "execution_count": 165,
   "id": "b3ba9ae8",
   "metadata": {},
   "outputs": [],
   "source": [
    "matrix = base.Pymatrix(chunks)"
   ]
  },
  {
   "cell_type": "code",
   "execution_count": 166,
   "id": "d4044e45",
   "metadata": {},
   "outputs": [
    {
     "data": {
      "text/plain": [
       "Pymatrix([[  0,   1,   2,   3,   4],\n",
       "          [  5,   6,   7,   8,   9],\n",
       "          [ 10,  11,  12,  13,  14],\n",
       "          [ 15,  16,  17,  18,  19],\n",
       "          [ 20,  21,  22,  23,  24]])"
      ]
     },
     "execution_count": 166,
     "metadata": {},
     "output_type": "execute_result"
    }
   ],
   "source": [
    "matrix"
   ]
  },
  {
   "cell_type": "code",
   "execution_count": 183,
   "id": "883f32ea",
   "metadata": {},
   "outputs": [
    {
     "data": {
      "text/plain": [
       "list"
      ]
     },
     "execution_count": 183,
     "metadata": {},
     "output_type": "execute_result"
    }
   ],
   "source": [
    "type(matrix[2])"
   ]
  },
  {
   "cell_type": "code",
   "execution_count": 175,
   "id": "317b1218",
   "metadata": {},
   "outputs": [],
   "source": [
    "s =slice(1, 3)"
   ]
  },
  {
   "cell_type": "code",
   "execution_count": 181,
   "id": "9c427056",
   "metadata": {},
   "outputs": [
    {
     "data": {
      "text/plain": [
       "slice"
      ]
     },
     "execution_count": 181,
     "metadata": {},
     "output_type": "execute_result"
    }
   ],
   "source": [
    "type(slice(1, 3))"
   ]
  },
  {
   "cell_type": "code",
   "execution_count": 179,
   "id": "d3d69b53",
   "metadata": {},
   "outputs": [
    {
     "data": {
      "text/plain": [
       "1"
      ]
     },
     "execution_count": 179,
     "metadata": {},
     "output_type": "execute_result"
    }
   ],
   "source": [
    "s.start"
   ]
  },
  {
   "cell_type": "code",
   "execution_count": 160,
   "id": "14ce2421",
   "metadata": {},
   "outputs": [
    {
     "data": {
      "text/plain": [
       "101"
      ]
     },
     "execution_count": 160,
     "metadata": {},
     "output_type": "execute_result"
    }
   ],
   "source": [
    "matrix[2, 0]"
   ]
  },
  {
   "cell_type": "code",
   "execution_count": 137,
   "id": "d7e5ab25",
   "metadata": {},
   "outputs": [
    {
     "name": "stdout",
     "output_type": "stream",
     "text": [
      "[[  0,   1,   2,   3,   4]\n",
      " [  5,   6,   7,   8,   9]\n",
      " [ 10,  11,  12,  13,  14]\n",
      " [ 15,  16,  17,  18,  19]\n",
      " [ 20,  21,  22,  23,  24]]\n"
     ]
    }
   ],
   "source": [
    "print(matrix)"
   ]
  },
  {
   "cell_type": "code",
   "execution_count": 5,
   "id": "0d5caec9",
   "metadata": {},
   "outputs": [],
   "source": [
    "zero_matrix = base.Pymatrix.random(5, 5)"
   ]
  },
  {
   "cell_type": "code",
   "execution_count": 6,
   "id": "9954ba7d",
   "metadata": {},
   "outputs": [
    {
     "data": {
      "text/plain": [
       "5"
      ]
     },
     "execution_count": 6,
     "metadata": {},
     "output_type": "execute_result"
    }
   ],
   "source": [
    "zero_matrix.cols"
   ]
  }
 ],
 "metadata": {
  "kernelspec": {
   "display_name": "dls",
   "language": "python",
   "name": "python3"
  },
  "language_info": {
   "codemirror_mode": {
    "name": "ipython",
    "version": 3
   },
   "file_extension": ".py",
   "mimetype": "text/x-python",
   "name": "python",
   "nbconvert_exporter": "python",
   "pygments_lexer": "ipython3",
   "version": "3.10.15"
  }
 },
 "nbformat": 4,
 "nbformat_minor": 5
}
